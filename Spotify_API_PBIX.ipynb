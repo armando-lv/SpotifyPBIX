{
  "nbformat": 4,
  "nbformat_minor": 0,
  "metadata": {
    "colab": {
      "provenance": []
    },
    "kernelspec": {
      "name": "python3",
      "display_name": "Python 3"
    },
    "language_info": {
      "name": "python"
    }
  },
  "cells": [
    {
      "cell_type": "markdown",
      "source": [
        "## Imports, clients"
      ],
      "metadata": {
        "id": "eXcNfpRsQO-E"
      }
    },
    {
      "cell_type": "code",
      "source": [
        "pip install spotipy"
      ],
      "metadata": {
        "colab": {
          "base_uri": "https://localhost:8080/",
          "height": 573
        },
        "id": "On_t_4yWj0F9",
        "outputId": "0ab0df07-857a-40b5-8627-dd9263da705f"
      },
      "execution_count": null,
      "outputs": [
        {
          "output_type": "stream",
          "name": "stdout",
          "text": [
            "Looking in indexes: https://pypi.org/simple, https://us-python.pkg.dev/colab-wheels/public/simple/\n",
            "Collecting spotipy\n",
            "  Downloading spotipy-2.22.0-py3-none-any.whl (28 kB)\n",
            "Collecting redis>=3.5.3\n",
            "  Downloading redis-4.4.0-py3-none-any.whl (236 kB)\n",
            "\u001b[K     |████████████████████████████████| 236 kB 8.2 MB/s \n",
            "\u001b[?25hRequirement already satisfied: six>=1.15.0 in /usr/local/lib/python3.8/dist-packages (from spotipy) (1.15.0)\n",
            "Collecting urllib3>=1.26.0\n",
            "  Downloading urllib3-1.26.13-py2.py3-none-any.whl (140 kB)\n",
            "\u001b[K     |████████████████████████████████| 140 kB 60.3 MB/s \n",
            "\u001b[?25hCollecting requests>=2.25.0\n",
            "  Downloading requests-2.28.1-py3-none-any.whl (62 kB)\n",
            "\u001b[K     |████████████████████████████████| 62 kB 1.2 MB/s \n",
            "\u001b[?25hRequirement already satisfied: async-timeout>=4.0.2 in /usr/local/lib/python3.8/dist-packages (from redis>=3.5.3->spotipy) (4.0.2)\n",
            "Requirement already satisfied: idna<4,>=2.5 in /usr/local/lib/python3.8/dist-packages (from requests>=2.25.0->spotipy) (2.10)\n",
            "Requirement already satisfied: certifi>=2017.4.17 in /usr/local/lib/python3.8/dist-packages (from requests>=2.25.0->spotipy) (2022.12.7)\n",
            "Requirement already satisfied: charset-normalizer<3,>=2 in /usr/local/lib/python3.8/dist-packages (from requests>=2.25.0->spotipy) (2.1.1)\n",
            "Installing collected packages: urllib3, requests, redis, spotipy\n",
            "  Attempting uninstall: urllib3\n",
            "    Found existing installation: urllib3 1.24.3\n",
            "    Uninstalling urllib3-1.24.3:\n",
            "      Successfully uninstalled urllib3-1.24.3\n",
            "  Attempting uninstall: requests\n",
            "    Found existing installation: requests 2.23.0\n",
            "    Uninstalling requests-2.23.0:\n",
            "      Successfully uninstalled requests-2.23.0\n",
            "Successfully installed redis-4.4.0 requests-2.28.1 spotipy-2.22.0 urllib3-1.26.13\n"
          ]
        },
        {
          "output_type": "display_data",
          "data": {
            "application/vnd.colab-display-data+json": {
              "pip_warning": {
                "packages": [
                  "requests",
                  "urllib3"
                ]
              }
            }
          },
          "metadata": {}
        }
      ]
    },
    {
      "cell_type": "code",
      "source": [
        "import pandas as pd\n",
        "import requests as req\n",
        "import spotipy\n",
        "from spotipy.oauth2 import SpotifyClientCredentials\n",
        "from spotipy.oauth2 import SpotifyOAuth"
      ],
      "metadata": {
        "id": "oyaVOiskQSNp"
      },
      "execution_count": null,
      "outputs": []
    },
    {
      "cell_type": "code",
      "source": [
        "# ids\n",
        "cid = \"your cid here\"\n",
        "secret = \"your secret here\""
      ],
      "metadata": {
        "id": "mGk_6PInQUAs"
      },
      "execution_count": null,
      "outputs": []
    },
    {
      "cell_type": "code",
      "source": [
        "auth_manager = SpotifyClientCredentials(client_id = cid, client_secret = secret)\n",
        "sp = spotipy.Spotify(auth_manager = auth_manager)"
      ],
      "metadata": {
        "id": "8XPAwv0FQYRM"
      },
      "execution_count": null,
      "outputs": []
    },
    {
      "cell_type": "code",
      "source": [
        "playlists = {\n",
        "    \"18\" : \"37i9dQZF1EjhpGcGKQnobp\",\n",
        "    \"19\" : \"37i9dQZF1Etg0l0KogChpn\",\n",
        "    \"20\" : \"37i9dQZF1ELVmD3XUmQnZ4\",\n",
        "    \"21\" : \"1UhGema8MHN5T177jFJQTQ\",\n",
        "    \"22\" : \"2e7e5z7Uw8VNHON860aUGq\" \n",
        "}"
      ],
      "metadata": {
        "id": "g4ckuUEFQclx"
      },
      "execution_count": null,
      "outputs": []
    },
    {
      "cell_type": "code",
      "source": [
        "playlist_info = []\n",
        "\n",
        "for i in playlists.keys():\n",
        "  playlist_info += sp.playlist_items(playlists[i], fields = \"items\")[\"items\"]\n",
        "\n",
        "len_play = len(playlist_info)"
      ],
      "metadata": {
        "id": "YrvQ-XU5U5Lk"
      },
      "execution_count": null,
      "outputs": []
    },
    {
      "cell_type": "code",
      "source": [
        "tracks = pd.DataFrame()\n",
        "tracks[\"track_id\"] = [x[\"track\"][\"id\"] for x in playlist_info]\n",
        "tracks[\"playlist_id\"] = [list(playlists.keys())[int(x / len_play * 5)] for x in range(len_play)]\n",
        "tracks[\"track_name\"] = [x[\"track\"][\"name\"] for x in playlist_info]"
      ],
      "metadata": {
        "id": "P2nyvSyUN_Ku"
      },
      "execution_count": null,
      "outputs": []
    },
    {
      "cell_type": "code",
      "source": [
        "artists = pd.DataFrame()\n",
        "artists[\"artist_id\"] = [x[\"track\"][\"artists\"][0][\"id\"] for x in playlist_info]\n",
        "artists[\"artist_name\"] = [x[\"track\"][\"artists\"][0][\"name\"] for x in playlist_info]"
      ],
      "metadata": {
        "id": "sNJjeaZnO-Wp"
      },
      "execution_count": null,
      "outputs": []
    },
    {
      "cell_type": "code",
      "source": [
        "audio_features = []\n",
        "artists_info = []\n",
        "\n",
        "for x in range(int(len(playlist_info) / 50)):\n",
        "  start = x * 50\n",
        "  end = start + 50\n",
        "  c_tracks = tracks[\"track_id\"][start : end]\n",
        "  c_artists = artists[\"artist_id\"][start : end]\n",
        "\n",
        "  audio_features += sp.audio_features(c_tracks)\n",
        "  artists_info += sp.artists(c_artists)[\"artists\"]"
      ],
      "metadata": {
        "id": "qNi0PWb0QQo5"
      },
      "execution_count": null,
      "outputs": []
    },
    {
      "cell_type": "code",
      "source": [
        "artists[\"genre\"] =  list(map(lambda x: x[\"genres\"][-1] if len(x[\"genres\"]) != 0 else \"N/A\", artists_info))\n",
        "artists[\"artist_img\"] = list(map(lambda x: x[\"images\"][1][\"url\"] if len(x[\"images\"]) != 0 else \"N/A\", artists_info))\n",
        "artists = artists.drop_duplicates()"
      ],
      "metadata": {
        "id": "TF686iruSmiJ"
      },
      "execution_count": null,
      "outputs": []
    },
    {
      "cell_type": "code",
      "source": [
        "tracks[\"danceability\"] = [x[\"danceability\"] for x in audio_features]\n",
        "tracks[\"energy\"] = [x[\"energy\"] for x in audio_features]\n",
        "tracks[\"valence\"] = [x[\"valence\"] for x in audio_features]"
      ],
      "metadata": {
        "id": "RVm2CNKjTDGf"
      },
      "execution_count": null,
      "outputs": []
    },
    {
      "cell_type": "code",
      "source": [
        "albums = pd.DataFrame()\n",
        "albums[\"album_id\"] = [x[\"track\"][\"album\"][\"id\"] for x in playlist_info]\n",
        "albums[\"album_name\"] = [x[\"track\"][\"album\"][\"name\"] for x in playlist_info]\n",
        "albums[\"album_img\"] = [x[\"track\"][\"album\"][\"images\"][1][\"url\"] for x in playlist_info]\n",
        "albums = albums.drop_duplicates()"
      ],
      "metadata": {
        "id": "5n8j3QEqPF3g"
      },
      "execution_count": null,
      "outputs": []
    },
    {
      "cell_type": "code",
      "source": [
        "# save dfs to drive as csvs"
      ],
      "metadata": {
        "id": "9s_WA7b5TrGm"
      },
      "execution_count": null,
      "outputs": []
    }
  ]
}